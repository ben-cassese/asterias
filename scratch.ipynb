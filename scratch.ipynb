{
 "cells": [
  {
   "cell_type": "code",
   "execution_count": null,
   "metadata": {},
   "outputs": [],
   "source": [
    "import jax\n",
    "\n",
    "jax.config.update(\"jax_enable_x64\", True)\n",
    "import jax.numpy as jnp  # noqa: E402\n",
    "\n",
    "\n",
    "import numpy as np  # noqa: E402\n",
    "from asterias.core import (  # noqa: E402\n",
    "    _download_data,\n",
    "    _compute_all_profiles,\n",
    ")"
   ]
  },
  {
   "cell_type": "code",
   "execution_count": 2,
   "metadata": {},
   "outputs": [
    {
     "name": "stdout",
     "output_type": "stream",
     "text": [
      "Checking for/downloading 8 files\n"
     ]
    }
   ],
   "source": [
    "fs = _download_data(\n",
    "    mh_lower_limit=0.0,\n",
    "    mh_upper_limit=0.1,\n",
    "    teff_lower_limit=5500,\n",
    "    teff_upper_limit=5750,\n",
    "    logg_lower_limit=4.0,\n",
    "    logg_upper_limit=4.5,\n",
    "    stellar_grid=\"kurucz\",\n",
    "    ld_data_path=\"/Users/cassese/Downloads/tmpdata\",\n",
    "    verbose=True,\n",
    ")"
   ]
  },
  {
   "cell_type": "code",
   "execution_count": 3,
   "metadata": {},
   "outputs": [
    {
     "data": {
      "text/plain": [
       "(8, 2, 17)"
      ]
     },
     "execution_count": 3,
     "metadata": {},
     "output_type": "execute_result"
    }
   ],
   "source": [
    "mus, coeffs = _compute_all_profiles(\n",
    "    filepaths=fs,\n",
    "    wavelength_ranges=jnp.array([[6000, 7000], [7000, 8000]]),\n",
    "    filter_wavelengths=jnp.arange(5000, 10000),\n",
    "    filter_throughput=jnp.ones(5000)\n",
    ")\n",
    "coeffs.shape"
   ]
  },
  {
   "cell_type": "code",
   "execution_count": null,
   "metadata": {},
   "outputs": [],
   "source": []
  },
  {
   "cell_type": "code",
   "execution_count": null,
   "metadata": {},
   "outputs": [],
   "source": [
    "import os\n",
    "from asterias.core import _download\n",
    "from asterias.constants import REMOTE_LD_DATA_PATH\n",
    "\n",
    "supported_instruments = [\n",
    "    \"HST_STIS_G430L\",\n",
    "    \"HST_STIS_G750L\",\n",
    "    \"HST_WFC3_G280p1\",\n",
    "    \"HST_WFC3_G280n1\",\n",
    "    \"HST_WFC3_G102\",\n",
    "    \"HST_WFC3_G141\",\n",
    "    \"JWST_NIRSpec_Prism\",\n",
    "    \"JWST_NIRSpec_G395H\",\n",
    "    \"JWST_NIRSpec_G395M\",\n",
    "    \"JWST_NIRSpec_G235H\",\n",
    "    \"JWST_NIRSpec_G235M\",\n",
    "    # \"JWST_NIRSpec_G140H\", # not actually on the ExoTiC-LD server\n",
    "    \"JWST_NIRSpec_G140M-f100\",\n",
    "    \"JWST_NIRSpec_G140H-f070\",\n",
    "    \"JWST_NIRSpec_G140M-f070\",\n",
    "    \"JWST_NIRISS_SOSSo1\",\n",
    "    \"JWST_NIRISS_SOSSo2\",\n",
    "    \"JWST_NIRCam_F322W2\",\n",
    "    \"JWST_NIRCam_F444\",\n",
    "    \"JWST_MIRI_LRS\",\n",
    "    \"Spitzer_IRAC_Ch1\",\n",
    "    \"Spitzer_IRAC_Ch2\",\n",
    "    \"TESS\",\n",
    "]\n",
    "\n",
    "ld_data_path = \"/Users/cassese/Downloads/tmpdata\"\n",
    "\n",
    "def _read_sensitivity_data(mode):\n",
    "    local_sensitivity_file_path = os.path.join(\n",
    "        ld_data_path,\n",
    "        \"Sensitivity_files/{}_throughput.csv\".format(mode))\n",
    "    remote_sensitivity_file_path = os.path.join(\n",
    "        REMOTE_LD_DATA_PATH,\n",
    "        \"Sensitivity_files/{}_throughput.csv\".format(mode))\n",
    "\n",
    "    # Check if exists locally.\n",
    "    if not os.path.exists(local_sensitivity_file_path):\n",
    "        _download(remote_sensitivity_file_path,\n",
    "                    local_sensitivity_file_path)\n",
    "        \n",
    "    sensitivity_data = np.loadtxt(local_sensitivity_file_path,\n",
    "                                    skiprows=1, delimiter=\",\")\n",
    "    sensitivity_wavelengths = sensitivity_data[:, 0]\n",
    "    sensitivity_throughputs = sensitivity_data[:, 1]\n",
    "\n",
    "    return sensitivity_wavelengths, sensitivity_throughputs\n",
    "\n",
    "\n",
    "for s in supported_instruments:\n",
    "    _ = _read_sensitivity_data(s)"
   ]
  },
  {
   "cell_type": "code",
   "execution_count": null,
   "metadata": {},
   "outputs": [],
   "source": []
  },
  {
   "cell_type": "code",
   "execution_count": null,
   "metadata": {},
   "outputs": [],
   "source": []
  }
 ],
 "metadata": {
  "kernelspec": {
   "display_name": "asterias",
   "language": "python",
   "name": "asterias"
  },
  "language_info": {
   "codemirror_mode": {
    "name": "ipython",
    "version": 3
   },
   "file_extension": ".py",
   "mimetype": "text/x-python",
   "name": "python",
   "nbconvert_exporter": "python",
   "pygments_lexer": "ipython3",
   "version": "3.13.2"
  }
 },
 "nbformat": 4,
 "nbformat_minor": 2
}
